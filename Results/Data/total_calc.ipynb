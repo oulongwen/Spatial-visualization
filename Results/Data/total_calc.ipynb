{
 "cells": [
  {
   "cell_type": "markdown",
   "metadata": {},
   "source": [
    "# Calculation of total emission."
   ]
  },
  {
   "cell_type": "code",
   "execution_count": 25,
   "metadata": {
    "collapsed": false
   },
   "outputs": [],
   "source": [
    "import numpy as np\n",
    "import matplotlib.pyplot as plt\n",
    "emi = [None]*37\n",
    "emi[0] = am = np.load('am.npy')\n",
    "emi[1] = amtr = np.load('amtr.npy')\n",
    "emi[2] = anitr = np.load('anitr.npy')\n",
    "emi[3] = anitrtr = np.load('anitrtr.npy')\n",
    "emi[4] = asu = np.load('asu.npy')\n",
    "emi[5] = asutr = np.load('asutr.npy')\n",
    "emi[6] = cmine = np.load('cmine.npy')\n",
    "emi[7] = coale = np.load('coale.npy')\n",
    "emi[8] = coaltr = np.load('coaltr.npy')\n",
    "emi[9] = corn = np.load('corn.npy')\n",
    "emi[10] = dieseltr = np.load('dieseltr.npy')\n",
    "emi[11] = dm = np.load('dm.npy')\n",
    "emi[12] = dmaptr = np.load('dmaptr.npy')\n",
    "emi[13] = gas = np.load('gas.npy')\n",
    "emi[14] = gaspr = np.load('gaspr.npy')\n",
    "emi[15] = iamtr = np.load('iamtr.npy')\n",
    "emi[16] = k = np.load('k.npy')\n",
    "emi[17] = ktr = np.load('ktr.npy')\n",
    "emi[18] = ligno = np.load('ligno.npy')\n",
    "emi[19] = na = np.load('na.npy')\n",
    "emi[20] = natr = np.load('natr.npy')\n",
    "emi[21] = nge = np.load('nge.npy')\n",
    "emi[22] = ngtr = np.load('ngtr.npy')\n",
    "emi[23] = oilex = np.load('oilex.npy')\n",
    "emi[24] = oiltr = np.load('oiltr.npy')\n",
    "emi[25] = pa = np.load('pa.npy')\n",
    "emi[26] = patr = np.load('patr.npy')\n",
    "emi[27] = pr = np.load('pr.npy')\n",
    "emi[28] = prtr = np.load('prtr.npy')\n",
    "emi[29] = ref = np.load('ref.npy')\n",
    "emi[30] = sa = np.load('sa.npy')\n",
    "emi[31] = satr = np.load('satr.npy')\n",
    "emi[32] = stovertr = np.load('stovertr.npy')\n",
    "emi[33] = u = np.load('u.npy')\n",
    "emi[34] = uan = np.load('uan.npy')\n",
    "emi[35] = uantr = np.load('uantr.npy')\n",
    "emi[36] = ureatr = np.load('ureatr.npy')"
   ]
  },
  {
   "cell_type": "code",
   "execution_count": 26,
   "metadata": {
    "collapsed": false
   },
   "outputs": [],
   "source": [
    "total_emiss = sum(emi)\n",
    "np.save('total_emiss', total_emiss)"
   ]
  },
  {
   "cell_type": "code",
   "execution_count": null,
   "metadata": {
    "collapsed": true
   },
   "outputs": [],
   "source": []
  }
 ],
 "metadata": {
  "kernelspec": {
   "display_name": "Python 3",
   "language": "python",
   "name": "python3"
  },
  "language_info": {
   "codemirror_mode": {
    "name": "ipython",
    "version": 3
   },
   "file_extension": ".py",
   "mimetype": "text/x-python",
   "name": "python",
   "nbconvert_exporter": "python",
   "pygments_lexer": "ipython3",
   "version": "3.6.0"
  }
 },
 "nbformat": 4,
 "nbformat_minor": 0
}
