{
 "cells": [
  {
   "cell_type": "markdown",
   "metadata": {},
   "source": [
    "### This is the final notebook for *ALL* the emission calculations."
   ]
  },
  {
   "cell_type": "code",
   "execution_count": 1,
   "metadata": {
    "collapsed": true
   },
   "outputs": [],
   "source": [
    "# import numpy as np\n",
    "# class Emiss:\n",
    "#     def __init__(self, nrows = 82, ncols = 132, df = 1):\n",
    "#         self.lon = []\n",
    "#         self.lat = []\n",
    "#         self.x = []\n",
    "#         self.y = []\n",
    "#         self.prod = []\n",
    "#         self.df = df\n",
    "#         self.emi = np.zeros((5, nrows, ncols))"
   ]
  },
  {
   "cell_type": "code",
   "execution_count": 1,
   "metadata": {
    "collapsed": false
   },
   "outputs": [
    {
     "name": "stderr",
     "output_type": "stream",
     "text": [
      "/Library/Frameworks/Python.framework/Versions/3.5/lib/python3.5/site-packages/openpyxl/workbook/names/named_range.py:125: UserWarning: Discarded range with reserved name\n",
      "  warnings.warn(\"Discarded range with reserved name\")\n"
     ]
    }
   ],
   "source": [
    "# %matplotlib inline\n",
    "import matplotlib.pyplot as plt\n",
    "import gridgen_class_v2 as gc\n",
    "from gridgen_class_v2 import Emiss as Emiss\n",
    "import numpy as np\n",
    "import counties\n",
    "from openpyxl import load_workbook\n",
    "import bisect\n",
    "from mpl_toolkits.basemap import Basemap\n",
    "import pandas as pd\n",
    "# from oil_gas_fields import fields as fields\n",
    "from oil_gas_fields import fields\n",
    "import shapefile\n",
    "# from shapely.geometry import shape\n",
    "# from shapely.geometry import Polygon\n",
    "# from shapely.geometry.polygon import LinearRing\n",
    "import fiona\n",
    "from fer_loc import ferplant\n",
    "\n",
    "mt = gc.Map(36)\n",
    "m = mt.GenMap()\n",
    "x0 = mt.x[0,:]\n",
    "y0 = mt.y[:,0]\n",
    "id_dict = mt.GenDic()\n",
    "\n",
    "county1 = counties.county()\n",
    "pos_dic = county1.county_dict()\n",
    "\n",
    "bdwb = load_workbook('/Users/oulongwen/Google Drive/self share/LCA breakdown of lignocol electricity long trans.xlsx',\n",
    "                     data_only = True, read_only = True)\n",
    "bd = bdwb['Breakdown']\n",
    "assum = bdwb['Assumptions']\n",
    "total_elec = assum['H5'].value\n",
    "\n",
    "fer_dict = ferplant.fer_dict\n",
    "fertilizer = load_workbook('/Users/oulongwen/Google Drive/self share/fertilizer plants.xlsx',\n",
    "                     data_only = True, read_only = True)\n",
    "\n",
    "# phosp = fertilizer['P']\n",
    "potas = fertilizer['K2O']\n",
    "urea = fertilizer['Urea']\n",
    "nacid = fertilizer['Nitric acid']\n",
    "an = fertilizer['Ammonia nitrate']\n",
    "nh3 = fertilizer['Ammonia']\n",
    "sacid = fertilizer['Sulfuric acid']\n",
    "prock = fertilizer['P rock']\n",
    "pacid = fertilizer['P acid']\n",
    "usolution = fertilizer['UAN']\n",
    "asul = fertilizer['Ammonium sulfate']\n",
    "dmap = fertilizer['DMAP']\n",
    "\n",
    "idx = mt.idx\n",
    "# mt.pipe()"
   ]
  },
  {
   "cell_type": "markdown",
   "metadata": {},
   "source": [
    "#### 0: PM2.5 (9), 1: VOC (5), 2: NOx (7), 3: SOx (10), 4: NH3 (15)"
   ]
  },
  {
   "cell_type": "code",
   "execution_count": 3,
   "metadata": {
    "collapsed": true
   },
   "outputs": [],
   "source": [
    "index = ['9', '5', '7', '10', '15']"
   ]
  },
  {
   "cell_type": "code",
   "execution_count": 4,
   "metadata": {
    "collapsed": false
   },
   "outputs": [],
   "source": [
    "# Corn farming emission\n",
    "\n",
    "corn = Emiss()\n",
    "wb = load_workbook('/Users/oulongwen/Downloads/2012 corn prod in bushel.xlsx',data_only=True, read_only = True)\n",
    "ws = wb['corn']\n",
    "fid = []\n",
    "prod = []\n",
    "for row in ws.iter_rows('T2:V'+str(ws.max_row)):\n",
    "    try:\n",
    "        float(row[0].value)\n",
    "        fid.append(row[-1].value)\n",
    "        prod.append(row[0].value)\n",
    "    except:\n",
    "        pass\n",
    "    \n",
    "for id, production in zip(fid, prod):\n",
    "    if str(id) in pos_dic.keys():\n",
    "        pin = pos_dic[str(id)]\n",
    "        corn.lat.append(pin[0])\n",
    "        corn.lon.append(pin[1])\n",
    "        corn.prod.append(production)        \n",
    "corn.x, corn.y = m(corn.lon, corn.lat)\n",
    "\n",
    "# Calculate emission\n",
    "ctotal = sum(corn.prod)\n",
    "for xi, yi, cp in zip(corn.x, corn.y, corn.prod):\n",
    "    xind=bisect.bisect_left(x0, xi)\n",
    "    yind=bisect.bisect_left(y0, yi)\n",
    "    if (yind<=mt.nrows)&(xind>=1):\n",
    "        for n in range(5):\n",
    "            corn.emi[n][yind-1][xind-1]+=cp/ctotal*total_elec*bd['F'+ index[n]].value/10**6 * corn.df\n",
    "np.save('./Data/corn', corn.emi)\n",
    "# m.pcolormesh(mt.x,mt.y,corn.emi[0],cmap='RdPu')\n",
    "plt.savefig('/Users/oulongwen/Desktop/corn_farming_pm25', dpi = 500)\n",
    "# plt.show()\n",
    "\n",
    "# State corn production\n",
    "state = pd.read_csv('/Users/oulongwen/Downloads/state_latlon.csv',index_col = 'FIPS')\n",
    "state['prod'] = pd.Series(np.zeros(len(state.index)),index = state.index)\n",
    "# statelat = []\n",
    "# statelon = []\n",
    "# stateprod = []\n",
    "tempid = []\n",
    "for id, production in zip(fid, prod):\n",
    "#     if id not in tempid:\n",
    "#         statelat.append(state.ix[int(id[:2]),'latitude'])\n",
    "#         statelon.append(state.ix[int(id[:2]),'longitude'])\n",
    "#         tempid.append(id)\n",
    "    state.ix[int(id[:2]),'prod'] += production\n",
    "state = state.drop(state.index[[0,11]])     # remove HI and AK\n",
    "statecorn = Emiss()\n",
    "statecorn.lon = np.array(state['longitude'])\n",
    "statecorn.lat = np.array(state['latitude'])\n",
    "statecorn.prod = np.array(state['prod'])\n",
    "statecorn.x, statecorn.y = m(statecorn.lon, statecorn.lat)"
   ]
  },
  {
   "cell_type": "code",
   "execution_count": 4,
   "metadata": {
    "collapsed": false
   },
   "outputs": [],
   "source": [
    "# Crude oil extraction emission\n",
    "# from oil_gas_fields import fields as fields\n",
    "# For initialization \n",
    "# emission = np.zeros((mt.nrows,mt.ncols))\n",
    "\n",
    "oilex = Emiss(df = 0.475)\n",
    "\n",
    "oilfids = fields.oilfid\n",
    "oilprods = fields.oilprod\n",
    "\n",
    "# oillat=[]\n",
    "# oillon=[]\n",
    "# oilprod=[]\n",
    "for id, production in zip(oilfids, oilprods):\n",
    "    if str(id) in pos_dic.keys():\n",
    "        pin = pos_dic[str(id)]\n",
    "        oilex.lat.append(pin[0])\n",
    "        oilex.lon.append(pin[1])\n",
    "        oilex.prod.append(production)\n",
    "        \n",
    "oilex.x,oilex.y = m(oilex.lon, oilex.lat)\n",
    "\n",
    "oiltotal = sum(oilex.prod)\n",
    "for xi, yi, oil in zip(oilex.x, oilex.y, oilex.prod):\n",
    "    xind=bisect.bisect_left(x0, xi)\n",
    "    yind=bisect.bisect_left(y0, yi)\n",
    "    if (yind<=mt.nrows)&(xind>=1):\n",
    "        for n in range(5):\n",
    "            oilex.emi[n][yind-1][xind-1]+=oil/oiltotal*total_elec*bd['G'+index[n]].value/10**6 * oilex.df\n",
    "np.save('./Data/oilex', oilex.emi)\n",
    "# m.pcolormesh(mt.x,mt.y,emission,cmap='RdPu')\n",
    "# plt.show()"
   ]
  },
  {
   "cell_type": "code",
   "execution_count": 5,
   "metadata": {
    "collapsed": false
   },
   "outputs": [],
   "source": [
    "# NG extraction emission\n",
    "\n",
    "# For initialization \n",
    "# emission = np.zeros((mt.nrows,mt.ncols))\n",
    "gas = Emiss(df = 0.835)\n",
    "\n",
    "gasfids = fields.gasfid\n",
    "gasprods = fields.gasprod\n",
    "\n",
    "# gaslat=[]\n",
    "# gaslon=[]\n",
    "# gasprod=[]\n",
    "for id, production in zip(gasfids, gasprods):\n",
    "    if str(id) in pos_dic.keys():\n",
    "        pin = pos_dic[str(id)]\n",
    "        gas.lat.append(pin[0])\n",
    "        gas.lon.append(pin[1])\n",
    "        gas.prod.append(production)\n",
    "        \n",
    "gas.x, gas.y = m(gas.lon, gas.lat)\n",
    "\n",
    "gastotal = sum(gas.prod)\n",
    "for xi, yi, gasp in zip(gas.x, gas.y, gas.prod):\n",
    "    xind=bisect.bisect_left(x0, xi)\n",
    "    yind=bisect.bisect_left(y0, yi)\n",
    "    if (yind<=mt.nrows)&(xind>=1):\n",
    "        for n in range(5):\n",
    "            gas.emi[n][yind-1][xind-1]+=gasp/gastotal*total_elec*bd['N'+index[n]].value/10**6 * gas.df\n",
    "np.save('./Data/gas', gas.emi)   \n",
    "# m.pcolormesh(mt.x,mt.y,emission,cmap='RdPu')\n",
    "# plt.show()"
   ]
  },
  {
   "cell_type": "code",
   "execution_count": null,
   "metadata": {
    "collapsed": true
   },
   "outputs": [],
   "source": [
    "# NG processing emission\n",
    "\n",
    "# For initialization \n",
    "# emission = np.zeros((mt.nrows,mt.ncols))\n",
    "\n",
    "# import shapefile\n",
    "\n",
    "gaspr = Emiss(df = 0.835)\n",
    "m.readshapefile('/Users/oulongwen/Downloads/NaturalGas_ProcessingPlants_US_EIA/NaturalGas_ProcessingPlants_US_2014_v2','ngproc')\n",
    "# print(*m.ngproc[0])\n",
    "# print(type(m.ngproc_info[1]))\n",
    "ngtotal = 0\n",
    "for info in m.ngproc_info:\n",
    "    ngtotal += float(info['Capa_MMcfd'])\n",
    "for info,ngproc in zip(m.ngproc_info, m.ngproc):\n",
    "    xind=bisect.bisect_left(x0, ngproc[0])\n",
    "    yind=bisect.bisect_left(y0, ngproc[1])\n",
    "    if (yind<=mt.nrows)&(xind>=1):\n",
    "        for n in range(5):\n",
    "            gaspr.emi[n][yind-1][xind-1]+=float(info['Capa_MMcfd'])/ngtotal*total_elec*bd['O'+index[n]].value/10**6 * gaspr.df\n",
    "np.save('./Data/gaspr', gaspr.emi)\n",
    "# !!!!When using plt.plot or m.plot, the first and second parameter are actually the x and y coordinates of the points in map.\n",
    "#     plt.plot(ngproc[0], ngproc[1], marker='o')\n",
    "\n",
    "# m.pcolormesh(mt.x,mt.y,emission,cmap='RdPu')\n",
    "# plt.show()"
   ]
  },
  {
   "cell_type": "code",
   "execution_count": null,
   "metadata": {
    "collapsed": false
   },
   "outputs": [],
   "source": [
    "# Emission from lignocol electricity generation\n",
    "\n",
    "# Initialize emission\n",
    "# emission = np.zeros((mt.nrows,mt.ncols))\n",
    "\n",
    "ligno = Emiss()\n",
    "m.readshapefile('/Users/oulongwen/Documents/Research/LCA air quality/Code/powerplants_coal_8_26_14/powerplants_coal_8_26_14','power')\n",
    "\n",
    "coaltotal = 0\n",
    "for info in m.power_info:\n",
    "    coaltotal += float(info['namepcap'])\n",
    "# Calculate emission\n",
    "for info,power in zip(m.power_info, m.power):\n",
    "    xind=bisect.bisect_left(x0, power[0])\n",
    "    yind=bisect.bisect_left(y0, power[1])\n",
    "    if (yind<=mt.nrows)&(xind>=1):\n",
    "        for n in range(5):\n",
    "            ligno.emi[n][yind-1][xind-1]+=float(info['namepcap'])/coaltotal*total_elec*bd['I'+index[n]].value/10**6 * ligno.df\n",
    "np.save('./Data/ligno', ligno.emi)    \n",
    "\n",
    "# m.pcolormesh(mt.x,mt.y,emission,cmap='RdPu')\n",
    "# plt.show()"
   ]
  },
  {
   "cell_type": "code",
   "execution_count": null,
   "metadata": {
    "collapsed": false
   },
   "outputs": [],
   "source": [
    "# Emission from petroleum refining\n",
    "\n",
    "# Initialize emission\n",
    "# emission = np.zeros((mt.nrows,mt.ncols))\n",
    "# m.readshapefile('/Users/oulongwen/Downloads/oil refineries/Canada_US_Refineries_Capacity','oilref')\n",
    "\n",
    "ref = Emiss()\n",
    "wbref = load_workbook('/Users/oulongwen/Downloads/oil refineries/Canada_US_Refineries_Capacity.xlsx',data_only=True, read_only = True)\n",
    "wsref = wbref['refineries']\n",
    "\n",
    "for row in wsref.iter_rows('A2:K'+str(ws.max_row)):\n",
    "        ref.prod.append(row[4].value)                # capacity\n",
    "        ref.lat.append(row[-2].value)\n",
    "        ref.lon.append(row[-3].value)\n",
    "\n",
    "# reftotal = sum(refprod)\n",
    "ref.x, ref.y = m(ref.lon, ref.lat)\n",
    "# for info in m.oilref_info:\n",
    "#     oilreftotal += float(info['Capacity'])\n",
    "# Calculate emission\n",
    "reftotal = 0\n",
    "for xi, yi, refp in zip(ref.x, ref.y, ref.prod):\n",
    "    xind=bisect.bisect_left(x0, xi)\n",
    "    yind=bisect.bisect_left(y0, yi)\n",
    "    if (yind<=mt.nrows)&(xind>=1)&(xind<=mt.ncols):\n",
    "        reftotal += refp\n",
    "        \n",
    "for xi, yi, refp in zip(ref.x, ref.y, ref.prod):\n",
    "    xind=bisect.bisect_left(x0, xi)\n",
    "    yind=bisect.bisect_left(y0, yi)\n",
    "    if (yind<=mt.nrows)&(xind>=1)&(xind<=mt.ncols):\n",
    "        for n in range(5):\n",
    "            ref.emi[n][yind-1][xind-1]+=refp/reftotal*total_elec*bd['H'+index[n]].value/10**6 * ref.df\n",
    "np.save('./Data/ref', ref.emi)    \n",
    "# m.scatter(xref, yref, marker='o')\n",
    "# m.pcolormesh(mt.x,mt.y,emission,cmap='RdPu')\n",
    "# plt.show()"
   ]
  },
  {
   "cell_type": "code",
   "execution_count": null,
   "metadata": {
    "collapsed": false
   },
   "outputs": [],
   "source": [
    "# Emission from oil pipe\n",
    "\n",
    "# mt.pipe()\n",
    "\n",
    "dcru = pd.read_csv('/Users/oulongwen/Desktop/pipeline2.csv')\n",
    "doil = dcru.ix[(dcru['naics'] == 486110) & (dcru['design_capacity'] > 0),['longitude','latitude','design_capacity','design_capacity_units']]\n",
    "doil.drop_duplicates(inplace = True)\n",
    "conv = 393.014779  # 1 MMBtu/hr = 393 HP\n",
    "doil.loc[doil['design_capacity_units']=='E6BTU/HR','design_capacity'] *= conv\n",
    "doil['design_capacity_units']='HP'\n",
    "do2 = doil.round({'longitude':2, 'latitude':2})\n",
    "do2 = do2.drop_duplicates()\n",
    "doil = doil.loc[do2.index,['longitude','latitude', 'design_capacity', 'design_capacity_units']]\n",
    "doil = doil[['longitude', 'latitude', 'design_capacity']]\n",
    "doil = doil.ix[681:]          #delete first row whose capacity is 1\n",
    "npdoil = np.array(doil)\n",
    "\n",
    "oiltr = Emiss(df = 0.475)\n",
    "\n",
    "oiltr.lon = npdoil[:,0]\n",
    "oiltr.lat = npdoil[:,1]\n",
    "oiltr.prod = npdoil[:,2]\n",
    "oiltr.x, oiltr.y = m(oiltr.lon, oiltr.lat)\n",
    "oiltrtotal = sum(oiltr.prod)\n",
    "for xi, yi, oiltrp in zip(oiltr.x, oiltr.y, oiltr.prod):\n",
    "    xind=bisect.bisect_left(x0, xi)\n",
    "    yind=bisect.bisect_left(y0, yi)\n",
    "    if (yind<=mt.nrows)&(xind>=1)&(xind<=mt.ncols)&(yind>=1):\n",
    "        for n in range(5):\n",
    "            oiltr.emi[n][yind-1][xind-1]+=oiltrp/oiltrtotal*total_elec*bd['K'+ index[n]].value/10**6 * oiltr.df\n",
    "# for n in range(5):\n",
    "#     oiltr.emi[n] += mt.oilpipe / mt.total_oilpipe * total_elec * bd['K'+index[n]].value / 10**6 * oiltr.df  \n",
    "np.save('./Data/oiltr', oiltr.emi)"
   ]
  },
  {
   "cell_type": "code",
   "execution_count": null,
   "metadata": {
    "collapsed": false
   },
   "outputs": [],
   "source": [
    "# Emission from NG pipe\n",
    "\n",
    "dng = pd.read_csv('/Users/oulongwen/Desktop/pipeline2.csv')\n",
    "dgas = dng.ix[(dng['naics'] == 486210) & (dng['design_capacity'] > 0),['longitude','latitude','design_capacity','design_capacity_units']]\n",
    "dgas.drop_duplicates(inplace = True)\n",
    "conv = 393.014779\n",
    "dgas.loc[dgas['design_capacity_units']=='E6BTU/HR','design_capacity']*=conv\n",
    "dgas['design_capacity_units']='HP'\n",
    "dp2 = dgas.round({'longitude':2, 'latitude':2})\n",
    "dp2 = dp2.drop_duplicates()\n",
    "dgas = dgas.loc[dp2.index, ['longitude','latitude','design_capacity','design_capacity_units']]\n",
    "dgas = dgas[['longitude', 'latitude', 'design_capacity']]\n",
    "npdgas = np.array(dgas)\n",
    "\n",
    "ngtr = Emiss(df = 0.835)\n",
    "\n",
    "ngtr.lon = npdgas[:,0]\n",
    "ngtr.lat = npdgas[:,1]\n",
    "ngtr.prod = npdgas[:,2]\n",
    "ngtr.x, ngtr.y = m(ngtr.lon, ngtr.lat)\n",
    "ngtrtotal = sum(ngtr.prod)\n",
    "for xi, yi, ngtrp in zip(ngtr.x, ngtr.y, ngtr.prod):\n",
    "    xind=bisect.bisect_left(x0, xi)\n",
    "    yind=bisect.bisect_left(y0, yi)\n",
    "    if (yind<=mt.nrows)&(xind>=1)&(xind<=mt.ncols)&(yind>=1):\n",
    "        for n in range(5):\n",
    "            ngtr.emi[n][yind-1][xind-1]+=ngtrp/ngtrtotal*total_elec*bd['P'+ index[n]].value/10**6 * ngtr.df\n",
    "# for n in range(5):\n",
    "#     ngtr.emi[n] += mt.ngpipe / mt.total_ngpipe * total_elec * bd['P'+index[n]].value / 10**6 * ngtr.df\n",
    "np.save('./Data/ngtr', ngtr.emi)"
   ]
  },
  {
   "cell_type": "code",
   "execution_count": null,
   "metadata": {
    "collapsed": false
   },
   "outputs": [],
   "source": [
    "# VMT\n",
    "vmtdata = pd.read_csv('/Users/oulongwen/Downloads/total_vmt.csv',index_col = 'ID')\n",
    "vmtdata.index = vmtdata.index.map(\"{:05}\".format)\n",
    "vmtdata['lon'] = pd.Series(np.zeros(len(vmtdata.index)),index = vmtdata.index)\n",
    "vmtdata['lat'] = pd.Series(np.zeros(len(vmtdata.index)),index = vmtdata.index)\n",
    "for i in range(len(vmtdata.index)):\n",
    "    if str(vmtdata.index[i]) in pos_dic.keys():\n",
    "        pin = pos_dic[str(vmtdata.index[i])]\n",
    "        vmtdata.ix[i,['lat', 'lon']] = pin\n",
    "# totalvmt = vmtdata['total_vmt'].sum()\n",
    "vmt = np.array(vmtdata[['lon','lat','total_vmt']])"
   ]
  },
  {
   "cell_type": "code",
   "execution_count": null,
   "metadata": {
    "collapsed": false
   },
   "outputs": [],
   "source": [
    "# Emission from diesel pipe\n",
    "\n",
    "# Initialize emission\n",
    "# emission = np.zeros((mt.nrows,mt.ncols))\n",
    "\n",
    "dieseltr = Emiss()\n",
    "# for n in range(5):\n",
    "#     dieseltr.emi[n] += mt.dieselpipe / mt.total_dieselpipe * total_elec * bd['L'+index[n]].value / 10**6 * dieseltr.df\n",
    "dieseltr.lon = vmt[:,0]\n",
    "dieseltr.lat = vmt[:,1]\n",
    "dieseltr.prod = vmt[:,2]\n",
    "dieseltr.x, dieseltr.y = m(dieseltr.lon, dieseltr.lat)\n",
    "dieseltrtotal = sum(dieseltr.prod)\n",
    "for xi, yi, dtrp in zip(dieseltr.x, dieseltr.y, dieseltr.prod):\n",
    "    xind=bisect.bisect_left(x0, xi)\n",
    "    yind=bisect.bisect_left(y0, yi)\n",
    "    if (yind<=mt.nrows)&(xind>=1)&(xind<=mt.ncols)&(yind>=1):\n",
    "        for n in range(5):\n",
    "            dieseltr.emi[n][yind-1][xind-1]+=dtrp/dieseltrtotal*total_elec*bd['L'+ index[n]].value/10**6 * dieseltr.df\n",
    "np.save('./Data/dieseltr', dieseltr.emi)"
   ]
  },
  {
   "cell_type": "code",
   "execution_count": null,
   "metadata": {
    "collapsed": false
   },
   "outputs": [],
   "source": [
    "# K2O fertilzer emission\n",
    "\n",
    "# Initialize emission\n",
    "# emission = np.zeros((mt.nrows,mt.ncols))\n",
    "\n",
    "k = Emiss(df = 0.17)\n",
    "kloc = []\n",
    "# k.lon = []\n",
    "# k.lat = []\n",
    "# k.prod = []\n",
    "for row in potas.iter_rows('A2:G'+ str(potas.max_row)):\n",
    "    name = row[0].value\n",
    "    if name != None:\n",
    "        name = name.split(',')[0]\n",
    "        if 'total' not in name.lower():\n",
    "            if name.lower() in fer_dict.keys():\n",
    "                try:\n",
    "                    k.prod.append(float(row[-1].value))\n",
    "                    kloc.append(name)\n",
    "                    lon, lat = fer_dict[name.lower()]\n",
    "                    k.lon.append(lon)\n",
    "                    k.lat.append(lat)\n",
    "                except:\n",
    "                    pass\n",
    "                \n",
    "k.x, k.y = m(k.lon, k.lat)\n",
    "\n",
    "# Calculate emission\n",
    "ktotal = sum(k.prod)\n",
    "for xi, yi, kp in zip(k.x, k.y, k.prod):\n",
    "    xind=bisect.bisect_left(x0, xi)\n",
    "    yind=bisect.bisect_left(y0, yi)\n",
    "    if (yind<=mt.nrows)&(xind>=1):\n",
    "        for n in range(5):\n",
    "            k.emi[n][yind-1][xind-1]+=kp/ktotal*total_elec*bd['E'+index[0]].value/10**6 * k.df\n",
    "np.save('./Data/k', k.emi)"
   ]
  },
  {
   "cell_type": "code",
   "execution_count": null,
   "metadata": {
    "collapsed": false
   },
   "outputs": [],
   "source": [
    "# Urea emission\n",
    "\n",
    "u = Emiss(df = 0.565)\n",
    "uloc = []\n",
    "# u.lon = []\n",
    "# u.lat = []\n",
    "# u.prod = []\n",
    "\n",
    "for row in urea.iter_rows('A2:G'+ str(urea.max_row)):\n",
    "    name = row[0].value\n",
    "    if name != None:\n",
    "        name = name.split(',')[0]\n",
    "        if 'total' not in name.lower():\n",
    "            if name.lower() in fer_dict.keys():\n",
    "                try:\n",
    "                    u.prod.append(float(row[-1].value))\n",
    "                    uloc.append(name)\n",
    "                    lon, lat = fer_dict[name.lower()]\n",
    "                    u.lon.append(lon)\n",
    "                    u.lat.append(lat)\n",
    "                except:\n",
    "                    pass\n",
    "                \n",
    "u.x, u.y = m(u.lon, u.lat)\n",
    "\n",
    "# Calculate emission\n",
    "utotal = sum(u.prod)\n",
    "for xi, yi, up in zip(u.x, u.y, u.prod):\n",
    "    xind=bisect.bisect_left(x0, xi)\n",
    "    yind=bisect.bisect_left(y0, yi)\n",
    "    if (yind<=mt.nrows)&(xind>=1):\n",
    "        for n in range(5):\n",
    "            u.emi[n][yind-1][xind-1]+=up/utotal*total_elec*(bd['R'+index[n]].value+bd['AP'+index[n]].value)/10**6 * u.df\n",
    "np.save('./Data/u', u.emi)"
   ]
  },
  {
   "cell_type": "code",
   "execution_count": null,
   "metadata": {
    "collapsed": false
   },
   "outputs": [],
   "source": [
    "# Sulfuric acid emission\n",
    "\n",
    "sa = Emiss(df = 0.720)\n",
    "# sa.lon = []\n",
    "# sa.lat = []\n",
    "# sa.prod = []\n",
    "\n",
    "saloc = []\n",
    "\n",
    "for row in sacid.iter_rows('A2:B40'):\n",
    "    loc = row[0].value\n",
    "    if loc != None:\n",
    "        location = loc.split(';')\n",
    "#         sprod = row[-1].value/len(location)\n",
    "        for i, name in enumerate(location):\n",
    "            if i == 0:\n",
    "                name, state = name.split(',')[1:3]\n",
    "            else:\n",
    "                name, state = name.split(',')[0:2]\n",
    "            name = name.strip()\n",
    "            if 'total' not in name.lower():\n",
    "                if name.lower() in fer_dict.keys():\n",
    "                    try:\n",
    "                        sa.prod.append(float(row[-1].value/len(location)))\n",
    "                        saloc.append(name)\n",
    "                        lon, lat = fer_dict[name.lower()]\n",
    "                        sa.lon.append(lon)\n",
    "                        sa.lat.append(lat)\n",
    "                    except:\n",
    "                        pass\n",
    "                else:\n",
    "                    print(name.lower())\n",
    "\n",
    "sa.x, sa.y = m(sa.lon, sa.lat)\n",
    "\n",
    "# Calculate emission\n",
    "satotal = sum(sa.prod)\n",
    "for xi, yi, sap in zip(sa.x, sa.y, sa.prod):\n",
    "    xind=bisect.bisect_left(x0, xi)\n",
    "    yind=bisect.bisect_left(y0, yi)\n",
    "    if (yind<=mt.nrows)&(xind>=1):\n",
    "        for n in range(5):\n",
    "            sa.emi[n][yind-1][xind-1]+=sap/satotal*total_elec*(bd['AA'+index[n]].value+bd['AY'+index[n]].value)/10**6 * sa.df\n",
    "np.save('./Data/sa', sa.emi)"
   ]
  },
  {
   "cell_type": "code",
   "execution_count": null,
   "metadata": {
    "collapsed": false
   },
   "outputs": [],
   "source": [
    "# Nitric acid emission\n",
    "\n",
    "na = Emiss(df = 0.565)\n",
    "naloc = []\n",
    "\n",
    "for row in nacid.iter_rows('A2:G'+ str(nacid.max_row)):\n",
    "    name = row[0].value\n",
    "    if name != None:\n",
    "        name = name.split(',')[0]\n",
    "        name = name.strip()\n",
    "        if 'total' not in name.lower():\n",
    "            if name.lower() in fer_dict.keys():\n",
    "                try:\n",
    "                    na.prod.append(float(row[-1].value))\n",
    "                    naloc.append(name)\n",
    "                    lon, lat = fer_dict[name.lower()]\n",
    "                    na.lon.append(lon)\n",
    "                    na.lat.append(lat)\n",
    "                except:\n",
    "                    pass\n",
    "                \n",
    "na.x, na.y = m(na.lon, na.lat)\n",
    "\n",
    "# Calculate emission\n",
    "natotal = sum(na.prod)\n",
    "for xi, yi, nap in zip(na.x, na.y, na.prod):\n",
    "    xind=bisect.bisect_left(x0, xi)\n",
    "    yind=bisect.bisect_left(y0, yi)\n",
    "    if (yind<=mt.nrows)&(xind>=1):\n",
    "        for n in range(5):\n",
    "            na.emi[n][yind-1][xind-1]+=nap/natotal*total_elec*(bd['Y'+index[n]].value+bd['AW'+index[n]].value)/10**6 * na.df\n",
    "np.save('./Data/na', na.emi)"
   ]
  },
  {
   "cell_type": "code",
   "execution_count": null,
   "metadata": {
    "collapsed": false
   },
   "outputs": [],
   "source": [
    "# Emission of Ammonium nitrate\n",
    "\n",
    "anitr = Emiss(df = 0.565)\n",
    "anitrloc = []\n",
    "\n",
    "for row in an.iter_rows('A2:G'+ str(an.max_row)):\n",
    "    name = row[0].value\n",
    "    if name != None:\n",
    "        name = name.split(',')[0]\n",
    "        name = name.strip()\n",
    "        if 'total' not in name.lower():\n",
    "            if name.lower() in fer_dict.keys():\n",
    "                try:\n",
    "                    anitr.prod.append(float(row[-1].value))\n",
    "#                     anitrloc.append(name)\n",
    "                    lon, lat = fer_dict[name.lower()]\n",
    "                    anitr.lon.append(lon)\n",
    "                    anitr.lat.append(lat)\n",
    "                except:\n",
    "                    pass\n",
    "                \n",
    "anitr.x, anitr.y = m(anitr.lon, anitr.lat)\n",
    "\n",
    "# Calculate emission\n",
    "anitrtotal = sum(anitr.prod)\n",
    "for xi, yi, anitrp in zip(anitr.x, anitr.y, anitr.prod):\n",
    "    xind=bisect.bisect_left(x0, xi)\n",
    "    yind=bisect.bisect_left(y0, yi)\n",
    "    if (yind<=mt.nrows)&(xind>=1):\n",
    "        for n in range(5):\n",
    "            anitr.emi[n][yind-1][xind-1]+=anitrp/anitrtotal*total_elec*(bd['S'+index[n]].value+bd['AQ'+index[n]].value)/10**6 * anitr.df\n",
    "np.save('./Data/anitr', anitr.emi)"
   ]
  },
  {
   "cell_type": "code",
   "execution_count": null,
   "metadata": {
    "collapsed": false
   },
   "outputs": [],
   "source": [
    "# Emission of Ammonia\n",
    "\n",
    "am = Emiss(df = 0.565)\n",
    "# anitrloc = []\n",
    "\n",
    "for row in nh3.iter_rows('A2:G'+ str(nh3.max_row)):\n",
    "    name = row[0].value\n",
    "    if name != None:\n",
    "        name = name.split(',')[0]\n",
    "        name = name.strip()\n",
    "        if 'total' not in name.lower():\n",
    "            if name.lower() in fer_dict.keys():\n",
    "                try:\n",
    "                    am.prod.append(float(row[-1].value))\n",
    "#                     anitrloc.append(name)\n",
    "                    lon, lat = fer_dict[name.lower()]\n",
    "                    am.lon.append(lon)\n",
    "                    am.lat.append(lat)\n",
    "                except:\n",
    "                    pass\n",
    "#             else:\n",
    "#                 print(name.lower())\n",
    "                \n",
    "am.x, am.y = m(am.lon, am.lat)\n",
    "\n",
    "# Calculate emission\n",
    "amtotal = sum(am.prod)\n",
    "for xi, yi, amp in zip(am.x, am.y, am.prod):\n",
    "    xind=bisect.bisect_left(x0, xi)\n",
    "    yind=bisect.bisect_left(y0, yi)\n",
    "    if (yind<=mt.nrows)&(xind>=1):\n",
    "        for n in range(5):\n",
    "            am.emi[n][yind-1][xind-1]+=amp/amtotal*total_elec*(bd['Q'+index[n]].value+bd['AO'+index[n]].value+bd['X'+index[n]].value+bd['AV'+index[n]].value)/10**6 * am.df\n",
    "np.save('./Data/am', am.emi)"
   ]
  },
  {
   "cell_type": "code",
   "execution_count": null,
   "metadata": {
    "collapsed": false
   },
   "outputs": [],
   "source": [
    "# Emission of P rock\n",
    "\n",
    "pr = Emiss(df = 0.850)\n",
    "# anitrloc = []\n",
    "\n",
    "for row in prock.iter_rows('A2:G'+ str(prock.max_row)):\n",
    "    name = row[0].value\n",
    "    if name != None:\n",
    "        name = name.split(',')[0]\n",
    "        name = name.strip()\n",
    "        if 'total' not in name.lower():\n",
    "            if name.lower() in fer_dict.keys():\n",
    "                try:\n",
    "                    pr.prod.append(float(row[-1].value))\n",
    "#                     anitrloc.append(name)\n",
    "                    lon, lat = fer_dict[name.lower()]\n",
    "                    pr.lon.append(lon)\n",
    "                    pr.lat.append(lat)\n",
    "                except:\n",
    "                    pass\n",
    "#             else:\n",
    "#                 print(name.lower())\n",
    "                \n",
    "pr.x, pr.y = m(pr.lon, pr.lat)\n",
    "\n",
    "# Calculate emission\n",
    "prtotal = sum(pr.prod)\n",
    "for xi, yi, prp in zip(pr.x, pr.y, pr.prod):\n",
    "    xind=bisect.bisect_left(x0, xi)\n",
    "    yind=bisect.bisect_left(y0, yi)\n",
    "    if (yind<=mt.nrows)&(xind>=1) and (xind <= mt.ncols) and (yind >= 1):\n",
    "        for n in range(5):\n",
    "            pr.emi[n][yind-1][xind-1]+=prp/prtotal*total_elec*(bd['AB'+index[n]].value+bd['AZ'+index[n]].value)/10**6 * pr.df\n",
    "np.save('./Data/pr', pr.emi)"
   ]
  },
  {
   "cell_type": "code",
   "execution_count": null,
   "metadata": {
    "collapsed": false
   },
   "outputs": [],
   "source": [
    "# Emission of P acid\n",
    "\n",
    "pa = Emiss(df = 0.850)\n",
    "# anitrloc = []\n",
    "\n",
    "for row in pacid.iter_rows('A2:G'+ str(pacid.max_row)):\n",
    "    name = row[0].value\n",
    "    if name != None:\n",
    "        name = name.split(',')[0]\n",
    "        name = name.strip()\n",
    "        if 'total' not in name.lower():\n",
    "            if name.lower() in fer_dict.keys():\n",
    "                try:\n",
    "                    pa.prod.append(float(row[-1].value))\n",
    "#                     anitrloc.append(name)\n",
    "                    lon, lat = fer_dict[name.lower()]\n",
    "                    pa.lon.append(lon)\n",
    "                    pa.lat.append(lat)\n",
    "                except:\n",
    "                    pass\n",
    "#             else:\n",
    "#                 print(name.lower())\n",
    "                \n",
    "pa.x, pa.y = m(pa.lon, pa.lat)\n",
    "\n",
    "# Calculate emission\n",
    "patotal = sum(pa.prod)\n",
    "for xi, yi, pap in zip(pa.x, pa.y, pa.prod):\n",
    "    xind=bisect.bisect_left(x0, xi)\n",
    "    yind=bisect.bisect_left(y0, yi)\n",
    "    if (yind<=mt.nrows)&(xind>=1) and (xind <= mt.ncols) and (yind >= 1):\n",
    "        for n in range(5):\n",
    "            pa.emi[n][yind-1][xind-1]+=pap/patotal*total_elec*(bd['Z'+index[n]].value+bd['AX'+index[n]].value)/10**6 * pa.df\n",
    "np.save('./Data/pa', pa.emi)"
   ]
  },
  {
   "cell_type": "code",
   "execution_count": null,
   "metadata": {
    "collapsed": false
   },
   "outputs": [],
   "source": [
    "# Emission of UAN\n",
    "\n",
    "uan = Emiss(df = 0.565)\n",
    "\n",
    "for row in usolution.iter_rows('A2:G'+ str(usolution.max_row)):\n",
    "    name = row[0].value\n",
    "    if name != None:\n",
    "        name = name.split(',')[0]\n",
    "        name = name.strip()\n",
    "        if 'total' not in name.lower():\n",
    "            if name.lower() in fer_dict.keys():\n",
    "                try:\n",
    "                    uan.prod.append(float(row[-1].value))\n",
    "#                     anitrloc.append(name)\n",
    "                    lon, lat = fer_dict[name.lower()]\n",
    "                    uan.lon.append(lon)\n",
    "                    uan.lat.append(lat)\n",
    "                except:\n",
    "                    pass\n",
    "#             else:\n",
    "#                 print(name.lower())\n",
    "                \n",
    "uan.x, uan.y = m(uan.lon, uan.lat)\n",
    "\n",
    "# Calculate emission\n",
    "uantotal = sum(uan.prod)\n",
    "for xi, yi, uanp in zip(uan.x, uan.y, uan.prod):\n",
    "    xind=bisect.bisect_left(x0, xi)\n",
    "    yind=bisect.bisect_left(y0, yi)\n",
    "    if (yind<=mt.nrows)&(xind>=1) and (xind <= mt.ncols) and (yind >= 1):\n",
    "        for n in range(5):\n",
    "            uan.emi[n][yind-1][xind-1]+=uanp/uantotal*total_elec*(bd['V'+index[n]].value+bd['AT'+index[n]].value)/10**6 * uan.df\n",
    "np.save('./Data/uan', uan.emi)"
   ]
  },
  {
   "cell_type": "code",
   "execution_count": null,
   "metadata": {
    "collapsed": false
   },
   "outputs": [],
   "source": [
    "# Emission of Ammonium sulfate\n",
    "\n",
    "asu = Emiss(df = 0.565)\n",
    "\n",
    "for row in asul.iter_rows('A2:G'+ str(asul.max_row)):\n",
    "    name = row[0].value\n",
    "    if name != None:\n",
    "        name = name.split(',')[0]\n",
    "        name = name.strip()\n",
    "        if 'total' not in name.lower():\n",
    "            if name.lower() in fer_dict.keys():\n",
    "                try:\n",
    "                    asu.prod.append(float(row[-1].value))\n",
    "#                     anitrloc.append(name)\n",
    "                    lon, lat = fer_dict[name.lower()]\n",
    "                    asu.lon.append(lon)\n",
    "                    asu.lat.append(lat)\n",
    "                except:\n",
    "                    pass\n",
    "#             else:\n",
    "#                 print(name.lower())\n",
    "                \n",
    "asu.x, asu.y = m(asu.lon, asu.lat)\n",
    "\n",
    "# Calculate emission\n",
    "asutotal = sum(asu.prod)\n",
    "for xi, yi, asup in zip(asu.x, asu.y, asu.prod):\n",
    "    xind=bisect.bisect_left(x0, xi)\n",
    "    yind=bisect.bisect_left(y0, yi)\n",
    "    if (yind<=mt.nrows)&(xind>=1) and (xind <= mt.ncols) and (yind >= 1):\n",
    "        for n in range(5):\n",
    "            asu.emi[n][yind-1][xind-1]+=asup/asutotal*total_elec*(bd['W'+index[n]].value+bd['AU'+index[n]].value)/10**6 * asu.df\n",
    "np.save('./Data/asu', asu.emi)"
   ]
  },
  {
   "cell_type": "code",
   "execution_count": null,
   "metadata": {
    "collapsed": false
   },
   "outputs": [],
   "source": [
    "# Emission of DAP & MAP\n",
    "\n",
    "dm = Emiss(df = 0.565)\n",
    "\n",
    "for row in dmap.iter_rows('A2:G'+ str(dmap.max_row)):\n",
    "    name = row[0].value\n",
    "    if name != None:\n",
    "        name = name.split(',')[0]\n",
    "        name = name.strip()\n",
    "        if 'total' not in name.lower():\n",
    "            if name.lower() in fer_dict.keys():\n",
    "                try:\n",
    "                    dm.prod.append(float(row[-1].value))\n",
    "#                     anitrloc.append(name)\n",
    "                    lon, lat = fer_dict[name.lower()]\n",
    "                    dm.lon.append(lon)\n",
    "                    dm.lat.append(lat)\n",
    "                except:\n",
    "                    pass\n",
    "#             else:\n",
    "#                 print(name.lower())\n",
    "                \n",
    "dm.x, dm.y = m(dm.lon, dm.lat)\n",
    "\n",
    "# Calculate emission\n",
    "dmtotal = sum(dm.prod)\n",
    "for xi, yi, dmp in zip(dm.x, dm.y, dm.prod):\n",
    "    xind=bisect.bisect_left(x0, xi)\n",
    "    yind=bisect.bisect_left(y0, yi)\n",
    "    if (yind<=mt.nrows)&(xind>=1) and (xind <= mt.ncols) and (yind >= 1):\n",
    "        for n in range(5):\n",
    "            dm.emi[n][yind-1][xind-1]+=dmp/dmtotal*total_elec*(bd['T'+index[n]].value+bd['U'+index[n]].value+bd['AR'+index[n]].value+bd['AS'+index[n]].value)/10**6 * dm.df\n",
    "np.save('./Data/dm', dm.emi)"
   ]
  },
  {
   "cell_type": "code",
   "execution_count": null,
   "metadata": {
    "collapsed": false
   },
   "outputs": [],
   "source": [
    "# Coal mine emissions\n",
    "\n",
    "cmine = Emiss()\n",
    "\n",
    "wbc = load_workbook('/Users/oulongwen/Downloads/coal mines.xlsx',data_only=True, read_only = True)\n",
    "wsc = wbc['2008Pub']\n",
    "fip = []\n",
    "\n",
    "for row in wsc.iter_rows('M2:Y'+str(wsc.max_row)):\n",
    "        cmine.prod.append(row[-4].value)\n",
    "        cmine.lat.append(row[-2].value)\n",
    "        cmine.lon.append(row[-1].value)\n",
    "        fip.append(row[0].value)\n",
    "\n",
    "cmine.x,cmine.y = m(cmine.lon,cmine.lat)\n",
    "\n",
    "# Calculate emission\n",
    "cminetotal = sum(cmine.prod)\n",
    "for xi, yi, cminep in zip(cmine.x, cmine.y, cmine.prod):\n",
    "    xind=bisect.bisect_left(x0, xi)\n",
    "    yind=bisect.bisect_left(y0, yi)\n",
    "    if (yind<=mt.nrows)&(xind>=1) and (xind <= mt.ncols) and (yind >= 1):\n",
    "        for n in range(5):\n",
    "            cmine.emi[n][yind-1][xind-1]+=cminep/cminetotal*total_elec*bd['BM'+index[n]].value/10**6 * cmine.df\n",
    "np.save('./Data/cmine', cmine.emi)\n",
    "m.scatter(cmine.x,cmine.y, marker = 'o', s = np.array(cmine.prod)/cminetotal * 1000)\n",
    "plt.show()\n",
    "\n",
    "# State mine\n",
    "state = pd.read_csv('/Users/oulongwen/Downloads/state_latlon.csv',index_col = 'FIPS')\n",
    "state['prod'] = pd.Series(np.zeros(len(state.index)),index = state.index)\n",
    "for id, prod in zip(fip, cmine.prod):\n",
    "    state.ix[int(id),'prod'] += prod\n",
    "\n",
    "state = state.drop(state.index[[0,11]])     # remove HI and AK\n",
    "statecmine = Emiss()\n",
    "statecmine.lon = np.array(state['longitude'])\n",
    "statecmine.lat = np.array(state['latitude'])\n",
    "statecmine.prod = np.array(state['prod'])\n",
    "statecmine.x, statecmine.y = m(statecmine.lon, statecmine.lat)"
   ]
  },
  {
   "cell_type": "code",
   "execution_count": 5,
   "metadata": {
    "collapsed": false
   },
   "outputs": [],
   "source": [
    "# Emission of Coal and NG power plants\n",
    "\n",
    "coale = Emiss()\n",
    "nge = Emiss()\n",
    "coalfip = []\n",
    "ngfip = []\n",
    "\n",
    "wbp = load_workbook('/Users/oulongwen/Google Drive/self share/power plants.xlsx',data_only=True, read_only = True)\n",
    "wsp = wbp['power']\n",
    "for row in wsp.iter_rows('E2:U'+str(wsp.max_row)):\n",
    "    if row[3].value > 0:\n",
    "        coale.prod.append(row[3].value)\n",
    "        coale.lon.append(row[-1].value)\n",
    "        coale.lat.append(row[-2].value)\n",
    "        coalfip.append(row[0].value)\n",
    "    if row[4].value > 0:\n",
    "        nge.prod.append(row[4].value)\n",
    "        nge.lon.append(row[-1].value)\n",
    "        nge.lat.append(row[-2].value)\n",
    "        ngfip.append(row[0].value)\n",
    "\n",
    "# Calculate emission for coal power plants\n",
    "coale.x,coale.y = m(coale.lon,coale.lat)\n",
    "coaletotal = sum(coale.prod)\n",
    "for xi, yi, coalep in zip(coale.x, coale.y, coale.prod):\n",
    "    xind=bisect.bisect_left(x0, xi)\n",
    "    yind=bisect.bisect_left(y0, yi)\n",
    "    if (yind<=mt.nrows)&(xind>=1) and (xind <= mt.ncols) and (yind >= 1):\n",
    "        for n in range(5):\n",
    "            coale.emi[n][yind-1][xind-1]+=coalep/coaletotal*total_elec*bd['BO'+index[n]].value/10**6 * coale.df\n",
    "np.save('./Data/coale', coale.emi)\n",
    "\n",
    "\n",
    "# State corn production\n",
    "state = pd.read_csv('/Users/oulongwen/Downloads/state_latlon.csv',index_col = 'FIPS')\n",
    "state['prod'] = pd.Series(np.zeros(len(state.index)),index = state.index)\n",
    "\n",
    "for id, production in zip(coalfip, coale.prod):\n",
    "    state.ix[int(id),'prod'] += production\n",
    "state = state.drop(state.index[[0,11]])     # remove HI and AK\n",
    "statecoale = Emiss()\n",
    "statecoale.lon = np.array(state['longitude'])\n",
    "statecoale.lat = np.array(state['latitude'])\n",
    "statecoale.prod = np.array(state['prod'])\n",
    "statecoale.x, statecoale.y = m(statecoale.lon, statecoale.lat)\n",
    "        \n",
    "# Calculate emission for NG power plants\n",
    "nge.x,nge.y = m(nge.lon,nge.lat)\n",
    "ngetotal = sum(nge.prod)\n",
    "for xi, yi, ngep in zip(nge.x, nge.y, nge.prod):\n",
    "    xind=bisect.bisect_left(x0, xi)\n",
    "    yind=bisect.bisect_left(y0, yi)\n",
    "    if (yind<=mt.nrows)&(xind>=1) and (xind <= mt.ncols) and (yind >= 1):\n",
    "        for n in range(5):\n",
    "            nge.emi[n][yind-1][xind-1]+=ngep/ngetotal*total_elec*bd['BP'+index[n]].value/10**6 * nge.df\n",
    "np.save('./Data/nge', nge.emi)"
   ]
  },
  {
   "cell_type": "code",
   "execution_count": 9,
   "metadata": {
    "collapsed": false
   },
   "outputs": [
    {
     "data": {
      "text/plain": [
       "454"
      ]
     },
     "execution_count": 9,
     "metadata": {},
     "output_type": "execute_result"
    }
   ],
   "source": [
    "len(coale.x)"
   ]
  },
  {
   "cell_type": "code",
   "execution_count": 14,
   "metadata": {
    "collapsed": false
   },
   "outputs": [
    {
     "ename": "NameError",
     "evalue": "name 'statecmne' is not defined",
     "output_type": "error",
     "traceback": [
      "\u001b[0;31m---------------------------------------------------------------------------\u001b[0m",
      "\u001b[0;31mNameError\u001b[0m                                 Traceback (most recent call last)",
      "\u001b[0;32m<ipython-input-14-0e6af96e3d29>\u001b[0m in \u001b[0;36m<module>\u001b[0;34m()\u001b[0m\n\u001b[1;32m      3\u001b[0m \u001b[0mcoaltr\u001b[0m \u001b[0;34m=\u001b[0m \u001b[0mEmiss\u001b[0m\u001b[0;34m(\u001b[0m\u001b[0;34m)\u001b[0m\u001b[0;34m\u001b[0m\u001b[0m\n\u001b[1;32m      4\u001b[0m \u001b[0;31m# res = mt.transemi(cmine, coale, 500, 100)\u001b[0m\u001b[0;34m\u001b[0m\u001b[0;34m\u001b[0m\u001b[0m\n\u001b[0;32m----> 5\u001b[0;31m \u001b[0mres\u001b[0m \u001b[0;34m=\u001b[0m \u001b[0mmt\u001b[0m\u001b[0;34m.\u001b[0m\u001b[0mtransemi\u001b[0m\u001b[0;34m(\u001b[0m\u001b[0mstatecmine\u001b[0m\u001b[0;34m,\u001b[0m \u001b[0mstatecoale\u001b[0m\u001b[0;34m,\u001b[0m \u001b[0mlen\u001b[0m\u001b[0;34m(\u001b[0m\u001b[0mstatecmne\u001b[0m\u001b[0;34m.\u001b[0m\u001b[0mx\u001b[0m\u001b[0;34m)\u001b[0m\u001b[0;34m,\u001b[0m \u001b[0mlen\u001b[0m\u001b[0;34m(\u001b[0m\u001b[0mstatecoale\u001b[0m\u001b[0;34m.\u001b[0m\u001b[0mx\u001b[0m\u001b[0;34m)\u001b[0m\u001b[0;34m)\u001b[0m\u001b[0;34m\u001b[0m\u001b[0m\n\u001b[0m\u001b[1;32m      6\u001b[0m \u001b[0;32mfor\u001b[0m \u001b[0mn\u001b[0m \u001b[0;32min\u001b[0m \u001b[0mrange\u001b[0m\u001b[0;34m(\u001b[0m\u001b[0;36m5\u001b[0m\u001b[0;34m)\u001b[0m\u001b[0;34m:\u001b[0m\u001b[0;34m\u001b[0m\u001b[0m\n\u001b[1;32m      7\u001b[0m     \u001b[0mcoaltr\u001b[0m\u001b[0;34m.\u001b[0m\u001b[0memi\u001b[0m\u001b[0;34m[\u001b[0m\u001b[0mn\u001b[0m\u001b[0;34m]\u001b[0m \u001b[0;34m+=\u001b[0m \u001b[0mres\u001b[0m \u001b[0;34m/\u001b[0m \u001b[0mmt\u001b[0m\u001b[0;34m.\u001b[0m\u001b[0mtotaltrans\u001b[0m \u001b[0;34m*\u001b[0m \u001b[0mtotal_elec\u001b[0m \u001b[0;34m*\u001b[0m \u001b[0mbd\u001b[0m\u001b[0;34m[\u001b[0m\u001b[0;34m'BN'\u001b[0m\u001b[0;34m+\u001b[0m\u001b[0mindex\u001b[0m\u001b[0;34m[\u001b[0m\u001b[0mn\u001b[0m\u001b[0;34m]\u001b[0m\u001b[0;34m]\u001b[0m\u001b[0;34m.\u001b[0m\u001b[0mvalue\u001b[0m \u001b[0;34m/\u001b[0m \u001b[0;36m10\u001b[0m\u001b[0;34m**\u001b[0m\u001b[0;36m6\u001b[0m \u001b[0;34m*\u001b[0m \u001b[0mcoaltr\u001b[0m\u001b[0;34m.\u001b[0m\u001b[0mdf\u001b[0m\u001b[0;34m\u001b[0m\u001b[0m\n",
      "\u001b[0;31mNameError\u001b[0m: name 'statecmne' is not defined"
     ]
    }
   ],
   "source": [
    "# Emission of transportation of coal\n",
    "\n",
    "coaltr = Emiss()\n",
    "# res = mt.transemi(cmine, coale, 500, 100)\n",
    "res = mt.transemi(statecmine, statecoale, len(statecmine.x), len(statecoale.x))\n",
    "for n in range(5):\n",
    "    coaltr.emi[n] += res / mt.totaltrans * total_elec * bd['BN'+index[n]].value / 10**6 * coaltr.df\n",
    "np.save('./Data/coaltr', coaltr.emi)"
   ]
  },
  {
   "cell_type": "code",
   "execution_count": 6,
   "metadata": {
    "collapsed": false
   },
   "outputs": [],
   "source": [
    "# Emission of transportation of corn stover\n",
    "\n",
    "stovertr = Emiss()\n",
    "# res = mt.transemi(corn, coale, 600, 120)\n",
    "res = mt.transemi(statecorn, statecoale, len(statecorn.x), len(statecoale.x))\n",
    "for n in range(5):\n",
    "    stovertr.emi[n] += res / mt.totaltrans * total_elec * bd['J'+index[n]].value / 10**6 * stovertr.df\n",
    "# np.save('./Data/stovertr', stovertr.emi)"
   ]
  },
  {
   "cell_type": "code",
   "execution_count": 29,
   "metadata": {
    "collapsed": false
   },
   "outputs": [],
   "source": [
    "np.save('./Data/fig_sols', np.array(mt.sols['x']))\n",
    "np.save('./Data/fig_paths', np.array(mt.paths))\n",
    "np.save('./Data/fig_d',np.array(mt.d))"
   ]
  },
  {
   "cell_type": "code",
   "execution_count": 8,
   "metadata": {
    "collapsed": false
   },
   "outputs": [],
   "source": [
    "-\n",
    "# plt.show()"
   ]
  },
  {
   "cell_type": "code",
   "execution_count": 6,
   "metadata": {
    "collapsed": false
   },
   "outputs": [
    {
     "data": {
      "text/plain": [
       "2175436504.2014027"
      ]
     },
     "execution_count": 6,
     "metadata": {},
     "output_type": "execute_result"
    }
   ],
   "source": [
    "max(fretemp)"
   ]
  },
  {
   "cell_type": "code",
   "execution_count": 5,
   "metadata": {
    "collapsed": false
   },
   "outputs": [],
   "source": []
  },
  {
   "cell_type": "code",
   "execution_count": 78,
   "metadata": {
    "collapsed": false
   },
   "outputs": [],
   "source": [
    "# Emission of transportation of urea for N\n",
    "\n",
    "ureatr = Emiss(df = 0.565)\n",
    "# res = mt.transemi(u, corn, len(u.x), 1200)\n",
    "res = mt.transemi(u, statecorn, len(u.x), len(statecorn.x))\n",
    "for n in range(5):\n",
    "    ureatr.emi[n] += res / mt.totaltrans * total_elec * bd['AD'+index[n]].value / 10**6 * ureatr.df\n",
    "np.save('./Data/ureatr', ureatr.emi)"
   ]
  },
  {
   "cell_type": "code",
   "execution_count": 80,
   "metadata": {
    "collapsed": false
   },
   "outputs": [
    {
     "data": {
      "text/plain": [
       "49"
      ]
     },
     "execution_count": 80,
     "metadata": {},
     "output_type": "execute_result"
    }
   ],
   "source": [
    "len(statecorn.x)"
   ]
  },
  {
   "cell_type": "code",
   "execution_count": 82,
   "metadata": {
    "collapsed": false
   },
   "outputs": [],
   "source": [
    "# Emission of transportation of ammonium nitrate for N\n",
    "\n",
    "anitrtr = Emiss(df = 0.565)\n",
    "# res = mt.transemi(anitr, corn, len(anitr.x), 1200)\n",
    "res = mt.transemi(anitr, statecorn, len(anitr.x), len(statecorn.x))\n",
    "for n in range(5):\n",
    "    anitrtr.emi[n] += res / mt.totaltrans * total_elec * bd['AE'+index[n]].value / 10**6 * anitrtr.df\n",
    "np.save('./Data/anitrtr', anitrtr.emi)"
   ]
  },
  {
   "cell_type": "code",
   "execution_count": 83,
   "metadata": {
    "collapsed": false
   },
   "outputs": [
    {
     "data": {
      "text/plain": [
       "604.39382288626189"
      ]
     },
     "execution_count": 83,
     "metadata": {},
     "output_type": "execute_result"
    }
   ],
   "source": [
    "anitrtr.emi.sum()"
   ]
  },
  {
   "cell_type": "code",
   "execution_count": 84,
   "metadata": {
    "collapsed": true
   },
   "outputs": [],
   "source": [
    "# Emission of transportation of ammonia for N as final fertilizer\n",
    "\n",
    "amtr = Emiss(df = 0.565)\n",
    "res = mt.transemi(am, statecorn, len(am.x), len(statecorn.x))\n",
    "# res = mt.transemi(am, corn, len(am.x), 1200)\n",
    "for n in range(5):\n",
    "    amtr.emi[n] += res / mt.totaltrans * total_elec * bd['AC'+index[n]].value / 10**6 * amtr.df\n",
    "np.save('./Data/amtr', amtr.emi)"
   ]
  },
  {
   "cell_type": "code",
   "execution_count": 85,
   "metadata": {
    "collapsed": true
   },
   "outputs": [],
   "source": [
    "# Emission of transportation of DAP & MAP for N and P total\n",
    "\n",
    "dmaptr = Emiss(df = 0.565)\n",
    "# res = mt.transemi(dm, corn, len(dm.x), 1200)\n",
    "res = mt.transemi(dm, statecorn, len(dm.x), len(statecorn.x))\n",
    "for n in range(5):\n",
    "    dmaptr.emi[n] += res / mt.totaltrans * total_elec * (bd['AF'+index[n]].value+bd['AG'+index[n]].value+bd['BD'+index[n]].value+bd['BE'+index[n]].value) / 10**6 * dmaptr.df\n",
    "np.save('./Data/dmaptr', dmaptr.emi)"
   ]
  },
  {
   "cell_type": "code",
   "execution_count": 86,
   "metadata": {
    "collapsed": false
   },
   "outputs": [],
   "source": [
    "# Emission of transportation of UAN\n",
    "\n",
    "uantr = Emiss(df = 0.565)\n",
    "# res = mt.transemi(uan, corn, len(uan.x), 1200)\n",
    "res = mt.transemi(uan, statecorn, len(uan.x), len(statecorn.x))\n",
    "for n in range(5):\n",
    "    uantr.emi[n] += res / mt.totaltrans * total_elec * (bd['AH'+index[n]].value + bd['BF'+index[n]].value) / 10**6 * uantr.df\n",
    "np.save('./Data/uantr', uantr.emi)"
   ]
  },
  {
   "cell_type": "code",
   "execution_count": 87,
   "metadata": {
    "collapsed": false
   },
   "outputs": [],
   "source": [
    "# Emission of transportation of ammonium sulfate\n",
    "\n",
    "asutr = Emiss(df = 0.565)\n",
    "# res = mt.transemi(asu, corn, len(asu.x), 1200)\n",
    "res = mt.transemi(asu, statecorn, len(asu.x), len(statecorn.x))\n",
    "for n in range(5):\n",
    "    asutr.emi[n] += res / mt.totaltrans * total_elec * (bd['AI'+index[n]].value + bd['BG'+index[n]].value) / 10**6 * asutr.df \n",
    "np.save('./Data/asutr', asutr.emi)"
   ]
  },
  {
   "cell_type": "code",
   "execution_count": 88,
   "metadata": {
    "collapsed": false
   },
   "outputs": [],
   "source": [
    "# Emission of transportation of sulfuric acid\n",
    "\n",
    "ancillary = Emiss()\n",
    "scale = bdwb['N-2']\n",
    "scasul = scale['G40'].value\n",
    "scpa = scale['H40'].value\n",
    "ancillary.x = asu.x + pa.x\n",
    "ancillary.y = asu.y + pa.y\n",
    "ancillary.prod = [i*scasul for i in asu.prod] + [i*scpa for i in pa.prod]\n",
    "ancillary.lon = asu.lon + pa.lon\n",
    "ancillary.lat = asu.lat + pa.lat\n",
    "satr = Emiss(df = 0.720)\n",
    "res = mt.transemi(sa, ancillary, len(sa.x), len(ancillary.x))\n",
    "for n in range(5):\n",
    "    satr.emi[n] += res / mt.totaltrans * total_elec * (bd['AM'+index[n]].value + bd['BK'+index[n]].value) / 10**6 * satr.df\n",
    "np.save('./Data/satr', satr.emi)"
   ]
  },
  {
   "cell_type": "code",
   "execution_count": 38,
   "metadata": {
    "collapsed": false
   },
   "outputs": [
    {
     "data": {
      "text/plain": [
       "67"
      ]
     },
     "execution_count": 38,
     "metadata": {},
     "output_type": "execute_result"
    }
   ],
   "source": [
    "len(sa.lon)"
   ]
  },
  {
   "cell_type": "code",
   "execution_count": 31,
   "metadata": {
    "collapsed": true
   },
   "outputs": [],
   "source": [
    "# Emission of transportation of P acid\n",
    "\n",
    "patr = Emiss(df = 0.850)\n",
    "res = mt.transemi(pa, dm, len(pa.x), len(dm.x))\n",
    "for n in range(5):\n",
    "    patr.emi[n] += res / mt.totaltrans * total_elec * (bd['AL'+index[n]].value + bd['BJ'+index[n]].value) / 10**6 * patr.df\n",
    "np.save('./Data/patr', patr.emi)"
   ]
  },
  {
   "cell_type": "code",
   "execution_count": 32,
   "metadata": {
    "collapsed": false
   },
   "outputs": [],
   "source": [
    "# Emission of transportation of P rock\n",
    "\n",
    "prtr = Emiss(df = 0.850)\n",
    "res = mt.transemi(pr, pa, len(pr.x), len(pa.x))\n",
    "for n in range(5):\n",
    "    prtr.emi[n] += res / mt.totaltrans * total_elec * (bd['AN'+index[n]].value + bd['BL'+index[n]].value) / 10**6 * prtr.df\n",
    "np.save('./Data/prtr', prtr.emi)"
   ]
  },
  {
   "cell_type": "code",
   "execution_count": 33,
   "metadata": {
    "collapsed": false
   },
   "outputs": [],
   "source": [
    "# Emission of transportation of N acid\n",
    "\n",
    "natr = Emiss(df = 0.565)\n",
    "res = mt.transemi(na, anitr, len(na.x), len(anitr.x))\n",
    "for n in range(5):\n",
    "    natr.emi[n] += res / mt.totaltrans * total_elec * (bd['AK'+index[n]].value + bd['BI'+index[n]].value) / 10**6 * natr.df\n",
    "np.save('./Data/natr', natr.emi)"
   ]
  },
  {
   "cell_type": "code",
   "execution_count": 32,
   "metadata": {
    "collapsed": false
   },
   "outputs": [],
   "source": [
    "# Emission of transportation of K2O\n",
    "\n",
    "ktr = Emiss(df = 0.170)\n",
    "# res = mt.transemi(k, corn, len(k.x), 1200)\n",
    "res = mt.transemi(k, statecorn, len(k.x), len(statecorn.x))\n",
    "for n in range(5):\n",
    "    ktr.emi[n] += res / mt.totaltrans * total_elec * bd['M'+index[n]].value / 10**6 * ktr.df\n",
    "np.save('./Data/ktr', ktr.emi)"
   ]
  },
  {
   "cell_type": "code",
   "execution_count": 43,
   "metadata": {
    "collapsed": false
   },
   "outputs": [],
   "source": [
    "# Emission of transportation of intermediate ammonia\n",
    "\n",
    "ancillary2 = Emiss()\n",
    "scale = bdwb['N-2']\n",
    "scurea = scale['J38'].value\n",
    "scan = scale['K38'].value\n",
    "scdm = scale['N38'].value\n",
    "scasu = scale['O38'].value\n",
    "scna = scale['P38'].value\n",
    "ancillary2.x = u.x + anitr.x + dm.x + asu.x + na.x\n",
    "ancillary2.y = u.y + anitr.y + dm.y + asu.y + na.y\n",
    "ancillary2.prod = [i*scurea for i in u.prod] + [i*scan for i in anitr.prod] + [i*scdm for i in dm.prod] + [i*scasu for i in asu.prod] + [i*scna for i in na.prod]\n",
    "ancillary2.lon = u.lon + anitr.lon + dm.lon + asu.lon + na.lon\n",
    "ancillary2.lat = u.lat + anitr.lat + dm.lat + asu.lat + na.lat\n",
    "iamtr = Emiss(df = 0.565)\n",
    "res = mt.transemi(am, ancillary2, len(am.x), len(ancillary2.x))\n",
    "for n in range(5):\n",
    "    iamtr.emi[n] += res / mt.totaltrans * total_elec * (bd['AJ'+index[n]].value + bd['BH'+index[n]].value) / 10**6 * iamtr.df\n",
    "np.save('./Data/iamtr', iamtr.emi)"
   ]
  },
  {
   "cell_type": "code",
   "execution_count": 42,
   "metadata": {
    "collapsed": false
   },
   "outputs": [
    {
     "data": {
      "text/plain": [
       "23"
      ]
     },
     "execution_count": 42,
     "metadata": {},
     "output_type": "execute_result"
    }
   ],
   "source": [
    "len(u.x + anitr.x + dm.x + asu.x + na.x)\n",
    "len(am.x)"
   ]
  },
  {
   "cell_type": "code",
   "execution_count": 45,
   "metadata": {
    "collapsed": false
   },
   "outputs": [
    {
     "data": {
      "text/plain": [
       "28.952638048761226"
      ]
     },
     "execution_count": 45,
     "metadata": {},
     "output_type": "execute_result"
    }
   ],
   "source": [
    "iamtr.emi[0].sum()"
   ]
  },
  {
   "cell_type": "code",
   "execution_count": 48,
   "metadata": {
    "collapsed": false
   },
   "outputs": [
    {
     "data": {
      "text/plain": [
       "19"
      ]
     },
     "execution_count": 48,
     "metadata": {},
     "output_type": "execute_result"
    }
   ],
   "source": [
    "len(uan.x)"
   ]
  },
  {
   "cell_type": "code",
   "execution_count": null,
   "metadata": {
    "collapsed": true
   },
   "outputs": [],
   "source": []
  }
 ],
 "metadata": {
  "kernelspec": {
   "display_name": "Python 3",
   "language": "python",
   "name": "python3"
  },
  "language_info": {
   "codemirror_mode": {
    "name": "ipython",
    "version": 3
   },
   "file_extension": ".py",
   "mimetype": "text/x-python",
   "name": "python",
   "nbconvert_exporter": "python",
   "pygments_lexer": "ipython3",
   "version": "3.6.2"
  }
 },
 "nbformat": 4,
 "nbformat_minor": 0
}
