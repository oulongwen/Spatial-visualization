{
 "cells": [
  {
   "cell_type": "markdown",
   "metadata": {},
   "source": [
    "# Calculation of total emission."
   ]
  },
  {
   "cell_type": "code",
   "execution_count": 25,
   "metadata": {
    "collapsed": false
   },
   "outputs": [],
   "source": [
    "# import numpy as np\n",
    "# import matplotlib.pyplot as plt\n",
    "# emi = [None]*37\n",
    "# emi[0] = am = np.load('am.npy')\n",
    "# emi[1] = amtr = np.load('amtr.npy')\n",
    "# emi[2] = anitr = np.load('anitr.npy')\n",
    "# emi[3] = anitrtr = np.load('anitrtr.npy')\n",
    "# emi[4] = asu = np.load('asu.npy')\n",
    "# emi[5] = asutr = np.load('asutr.npy')\n",
    "# emi[6] = cmine = np.load('cmine.npy')\n",
    "# emi[7] = coale = np.load('coale.npy')\n",
    "# emi[8] = coaltr = np.load('coaltr.npy')\n",
    "# emi[9] = corn = np.load('corn.npy')\n",
    "# emi[10] = dieseltr = np.load('dieseltr.npy')\n",
    "# emi[11] = dm = np.load('dm.npy')\n",
    "# emi[12] = dmaptr = np.load('dmaptr.npy')\n",
    "# emi[13] = gas = np.load('gas.npy')\n",
    "# emi[14] = gaspr = np.load('gaspr.npy')\n",
    "# emi[15] = iamtr = np.load('iamtr.npy')\n",
    "# emi[16] = k = np.load('k.npy')\n",
    "# emi[17] = ktr = np.load('ktr.npy')\n",
    "# emi[18] = ligno = np.load('ligno.npy')\n",
    "# emi[19] = na = np.load('na.npy')\n",
    "# emi[20] = natr = np.load('natr.npy')\n",
    "# emi[21] = nge = np.load('nge.npy')\n",
    "# emi[22] = ngtr = np.load('ngtr.npy')\n",
    "# emi[23] = oilex = np.load('oilex.npy')\n",
    "# emi[24] = oiltr = np.load('oiltr.npy')\n",
    "# emi[25] = pa = np.load('pa.npy')\n",
    "# emi[26] = patr = np.load('patr.npy')\n",
    "# emi[27] = pr = np.load('pr.npy')\n",
    "# emi[28] = prtr = np.load('prtr.npy')\n",
    "# emi[29] = ref = np.load('ref.npy')\n",
    "# emi[30] = sa = np.load('sa.npy')\n",
    "# emi[31] = satr = np.load('satr.npy')\n",
    "# emi[32] = stovertr = np.load('stovertr.npy')\n",
    "# emi[33] = u = np.load('u.npy')\n",
    "# emi[34] = uan = np.load('uan.npy')\n",
    "# emi[35] = uantr = np.load('uantr.npy')\n",
    "# emi[36] = ureatr = np.load('ureatr.npy')"
   ]
  },
  {
   "cell_type": "code",
   "execution_count": 26,
   "metadata": {
    "collapsed": false
   },
   "outputs": [],
   "source": [
    "# total_emiss = sum(emi)\n",
    "# np.save('total_emiss', total_emiss)"
   ]
  },
  {
   "cell_type": "code",
   "execution_count": 1,
   "metadata": {
    "collapsed": true
   },
   "outputs": [],
   "source": [
    "import numpy as np\n",
    "import matplotlib.pyplot as plt"
   ]
  },
  {
   "cell_type": "code",
   "execution_count": 2,
   "metadata": {
    "collapsed": true
   },
   "outputs": [],
   "source": [
    "total_emiss = np.load('total_emiss.npy')"
   ]
  },
  {
   "cell_type": "code",
   "execution_count": 4,
   "metadata": {
    "collapsed": false
   },
   "outputs": [
    {
     "data": {
      "text/plain": [
       "(5, 82, 132)"
      ]
     },
     "execution_count": 4,
     "metadata": {},
     "output_type": "execute_result"
    }
   ],
   "source": [
    "total_emiss.shape"
   ]
  },
  {
   "cell_type": "code",
   "execution_count": 1,
   "metadata": {
    "collapsed": false
   },
   "outputs": [
    {
     "ename": "ModuleNotFoundError",
     "evalue": "No module named 'gridgen_class_v2'",
     "output_type": "error",
     "traceback": [
      "\u001b[0;31m---------------------------------------\u001b[0m",
      "\u001b[0;31mModuleNotFoundError\u001b[0mTraceback (most recent call last)",
      "\u001b[0;32m<ipython-input-1-6abd5f4ff925>\u001b[0m in \u001b[0;36m<module>\u001b[0;34m()\u001b[0m\n\u001b[1;32m      1\u001b[0m \u001b[0;32mimport\u001b[0m \u001b[0mmatplotlib\u001b[0m\u001b[0;34m.\u001b[0m\u001b[0mpyplot\u001b[0m \u001b[0;32mas\u001b[0m \u001b[0mplt\u001b[0m\u001b[0;34m\u001b[0m\u001b[0m\n\u001b[0;32m----> 2\u001b[0;31m \u001b[0;32mimport\u001b[0m \u001b[0mgridgen_class_v2\u001b[0m \u001b[0;32mas\u001b[0m \u001b[0mgc\u001b[0m\u001b[0;34m\u001b[0m\u001b[0m\n\u001b[0m\u001b[1;32m      3\u001b[0m \u001b[0;32mfrom\u001b[0m \u001b[0mgridgen_class_v2\u001b[0m \u001b[0;32mimport\u001b[0m \u001b[0mEmiss\u001b[0m \u001b[0;32mas\u001b[0m \u001b[0mEmiss\u001b[0m\u001b[0;34m\u001b[0m\u001b[0m\n\u001b[1;32m      4\u001b[0m \u001b[0;32mimport\u001b[0m \u001b[0mnumpy\u001b[0m \u001b[0;32mas\u001b[0m \u001b[0mnp\u001b[0m\u001b[0;34m\u001b[0m\u001b[0m\n\u001b[1;32m      5\u001b[0m \u001b[0;31m# import counties\u001b[0m\u001b[0;34m\u001b[0m\u001b[0;34m\u001b[0m\u001b[0m\n",
      "\u001b[0;31mModuleNotFoundError\u001b[0m: No module named 'gridgen_class_v2'"
     ]
    }
   ],
   "source": [
    "import matplotlib.pyplot as plt\n",
    "import gridgen_class_v2 as gc\n",
    "from gridgen_class_v2 import Emiss as Emiss\n",
    "import numpy as np\n",
    "# import counties\n",
    "from openpyxl import load_workbook\n",
    "import bisect\n",
    "from mpl_toolkits.basemap import Basemap\n",
    "import pandas as pd\n",
    "# from oil_gas_fields import fields\n",
    "import shapefile\n",
    "# from shapely.geometry import shape\n",
    "# from shapely.geometry import Polygon\n",
    "# from shapely.geometry.polygon import LinearRing\n",
    "import fiona\n",
    "# from fer_loc import ferplant\n",
    "\n",
    "import shelve\n",
    "test = shelve.open('emi_results')\n",
    "# mt = test['mt']\n",
    "# m = test['m']\n",
    "# id_dict = test['id_dict']\n",
    "pos_dic = test['pos_dic']\n",
    "fer_dict = test['fer_dict']\n",
    "# idx = test['idx']\n",
    "oilfids = test['oilfids']\n",
    "oilprods = test['oilprods']\n",
    "gasfids = test['gasfids']\n",
    "gasprods = test['gasprods']\n",
    "\n",
    "test.close()\n",
    "\n",
    "mt = gc.Map(36)\n",
    "m = mt.GenMap()\n",
    "x0 = mt.x[0,:]\n",
    "y0 = mt.y[:,0]\n",
    "id_dict = mt.GenDic()"
   ]
  },
  {
   "cell_type": "code",
   "execution_count": 7,
   "metadata": {
    "collapsed": false
   },
   "outputs": [
    {
     "data": {
      "text/plain": [
       "array([[[ 0,  1,  2],\n",
       "        [ 3,  4,  5],\n",
       "        [ 6,  7,  8]],\n",
       "\n",
       "       [[ 9, 10, 11],\n",
       "        [12, 13, 14],\n",
       "        [15, 16, 17]],\n",
       "\n",
       "       [[18, 19, 20],\n",
       "        [21, 22, 23],\n",
       "        [24, 25, 26]]])"
      ]
     },
     "execution_count": 7,
     "metadata": {},
     "output_type": "execute_result"
    }
   ],
   "source": []
  },
  {
   "cell_type": "code",
   "execution_count": 8,
   "metadata": {
    "collapsed": false
   },
   "outputs": [
    {
     "data": {
      "text/plain": [
       "array([[[ 0,  2,  4],\n",
       "        [ 6,  8, 10],\n",
       "        [12, 14, 16]],\n",
       "\n",
       "       [[18, 20, 22],\n",
       "        [24, 26, 28],\n",
       "        [30, 32, 34]],\n",
       "\n",
       "       [[36, 38, 40],\n",
       "        [42, 44, 46],\n",
       "        [48, 50, 52]]])"
      ]
     },
     "execution_count": 8,
     "metadata": {},
     "output_type": "execute_result"
    }
   ],
   "source": [
    "sum([a,a])"
   ]
  },
  {
   "cell_type": "code",
   "execution_count": null,
   "metadata": {
    "collapsed": true
   },
   "outputs": [],
   "source": []
  }
 ],
 "metadata": {
  "kernelspec": {
   "display_name": "Python 3",
   "language": "python",
   "name": "python3"
  }
 },
 "nbformat": 4,
 "nbformat_minor": 0
}
